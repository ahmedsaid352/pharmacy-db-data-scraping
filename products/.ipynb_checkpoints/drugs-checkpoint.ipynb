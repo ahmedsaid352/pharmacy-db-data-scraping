{
 "cells": [
  {
   "cell_type": "code",
   "execution_count": 1,
   "id": "fba12d3a",
   "metadata": {},
   "outputs": [],
   "source": [
    "from bs4 import BeautifulSoup\n",
    "from selenium import webdriver\n",
    "from webdriver_manager.chrome import ChromeDriverManager\n",
    "import pandas as pd"
   ]
  },
  {
   "cell_type": "code",
   "execution_count": 2,
   "id": "b4f6f9e5",
   "metadata": {},
   "outputs": [],
   "source": [
    "# ignore pandas warnings"
   ]
  },
  {
   "cell_type": "code",
   "execution_count": 2,
   "id": "80bdbf56",
   "metadata": {},
   "outputs": [],
   "source": [
    "import warnings\n",
    "warnings.filterwarnings('ignore')"
   ]
  },
  {
   "cell_type": "code",
   "execution_count": 3,
   "id": "56e747e4",
   "metadata": {},
   "outputs": [
    {
     "name": "stdout",
     "output_type": "stream",
     "text": [
      "\n"
     ]
    }
   ],
   "source": [
    "browser = webdriver.Chrome(ChromeDriverManager().install())\n",
    "browser.maximize_window()\n",
    "browser.get('https://seif-online.com/en/categories/')\n",
    "html = browser.page_source"
   ]
  },
  {
   "cell_type": "code",
   "execution_count": 4,
   "id": "0423f3b6",
   "metadata": {},
   "outputs": [],
   "source": [
    "soup = BeautifulSoup(html,\"html.parser\")\n",
    "urls = soup.select('#content > div > div > div > div.row.large-columns-5.medium-columns-3.small-columns-2.row-xsmall.has-shadow.row-box-shadow-1 > div > div > a')"
   ]
  },
  {
   "cell_type": "code",
   "execution_count": 5,
   "id": "0ece1e02",
   "metadata": {},
   "outputs": [],
   "source": [
    "categories = {} # key ==> category name , value ==> url"
   ]
  },
  {
   "cell_type": "code",
   "execution_count": 6,
   "id": "3f4bb044",
   "metadata": {},
   "outputs": [],
   "source": [
    "for i in range(len(urls)):\n",
    "    urls[i] = urls[i].get('href')"
   ]
  },
  {
   "cell_type": "code",
   "execution_count": 7,
   "id": "a272944c",
   "metadata": {},
   "outputs": [],
   "source": [
    "cat_names = soup.select('#content > div > div > div > div.row.large-columns-5.medium-columns-3.small-columns-2.row-xsmall.has-shadow.row-box-shadow-1 > div > div > a > div > div.box-text.text-center.is-large > div > h5')"
   ]
  },
  {
   "cell_type": "code",
   "execution_count": 8,
   "id": "f3938176",
   "metadata": {},
   "outputs": [],
   "source": [
    "for i in range(len(cat_names)):\n",
    "    cat_names[i] = cat_names[i].text.replace('\\n','').strip()"
   ]
  },
  {
   "cell_type": "code",
   "execution_count": 10,
   "id": "be20701b",
   "metadata": {},
   "outputs": [],
   "source": [
    "if len(urls) == len(cat_names):\n",
    "    for i in range(len(urls)):\n",
    "        categories[cat_names[i]] = urls[i]"
   ]
  },
  {
   "cell_type": "code",
   "execution_count": 69,
   "id": "ea0db4ed",
   "metadata": {},
   "outputs": [
    {
     "data": {
      "text/html": [
       "<div>\n",
       "<style scoped>\n",
       "    .dataframe tbody tr th:only-of-type {\n",
       "        vertical-align: middle;\n",
       "    }\n",
       "\n",
       "    .dataframe tbody tr th {\n",
       "        vertical-align: top;\n",
       "    }\n",
       "\n",
       "    .dataframe thead th {\n",
       "        text-align: right;\n",
       "    }\n",
       "</style>\n",
       "<table border=\"1\" class=\"dataframe\">\n",
       "  <thead>\n",
       "    <tr style=\"text-align: right;\">\n",
       "      <th></th>\n",
       "      <th>name</th>\n",
       "      <th>price</th>\n",
       "      <th>type</th>\n",
       "      <th>img_url</th>\n",
       "    </tr>\n",
       "  </thead>\n",
       "  <tbody>\n",
       "  </tbody>\n",
       "</table>\n",
       "</div>"
      ],
      "text/plain": [
       "Empty DataFrame\n",
       "Columns: [name, price, type, img_url]\n",
       "Index: []"
      ]
     },
     "execution_count": 69,
     "metadata": {},
     "output_type": "execute_result"
    }
   ],
   "source": [
    "import pandas as pd\n",
    "df = pd.DataFrame(columns=['name','price','type','img_url'])\n",
    "df.head()"
   ]
  },
  {
   "cell_type": "code",
   "execution_count": 12,
   "id": "5195026d",
   "metadata": {},
   "outputs": [],
   "source": [
    "import numpy as np"
   ]
  },
  {
   "cell_type": "code",
   "execution_count": 74,
   "id": "fc84609d",
   "metadata": {},
   "outputs": [
    {
     "name": "stdout",
     "output_type": "stream",
     "text": [
      "https://seif-online.com/en/product-category/%d8%a7%d9%84%d8%b9%d9%86%d8%a7%d9%8a%d8%a9-%d8%a8%d8%a7%d9%84%d8%ac%d9%85%d8%a7%d9%84/%d8%a7%d9%84%d8%b9%d9%86%d8%a7%d9%8a%d8%a9-%d8%a8%d8%a7%d9%84%d8%a8%d8%b4%d8%b1%d8%a9/%d8%a7%d8%b2%d8%a7%d9%84%d8%a9-%d8%a7%d9%84%d9%86%d8%af%d8%a8%d8%a7%d8%aa-%d9%88%d8%b9%d9%84%d8%a7%d9%85%d8%a7%d8%aa-%d8%a7%d9%84%d8%aa%d9%85%d8%af%d8%af/\n",
      "https://seif-online.com/en/product-category/%d8%a7%d9%84%d8%b9%d9%86%d8%a7%d9%8a%d8%a9-%d8%a8%d8%a7%d9%84%d8%ac%d9%85%d8%a7%d9%84/%d8%a7%d9%84%d8%b9%d9%86%d8%a7%d9%8a%d8%a9-%d8%a8%d8%a7%d9%84%d8%a8%d8%b4%d8%b1%d8%a9/%d8%a3%d8%af%d9%88%d8%a7%d8%aa-%d8%aa%d8%af%d9%84%d9%8a%d9%83-%d8%a7%d9%84%d9%88%d8%ac%d9%87-%d9%88-%d8%af%d8%b1%d9%85%d8%a7-%d8%b1%d9%88%d9%84%d8%b1/\n",
      "https://seif-online.com/en/product-category/%d8%a7%d9%84%d8%b9%d9%86%d8%a7%d9%8a%d8%a9-%d8%a8%d8%a7%d9%84%d8%ac%d9%85%d8%a7%d9%84/%d8%a7%d9%84%d8%b9%d9%86%d8%a7%d9%8a%d8%a9-%d8%a8%d8%a7%d9%84%d8%a8%d8%b4%d8%b1%d8%a9/%d9%85%d9%86%d8%aa%d8%ac%d8%a7%d8%aa-%d8%b9%d9%84%d8%a7%d8%ac-%d8%aa%d9%82%d8%af%d9%85-%d8%a7%d9%84%d8%b3%d9%86/\n",
      "https://seif-online.com/en/product-category/%d8%a7%d9%84%d8%b9%d9%86%d8%a7%d9%8a%d8%a9-%d8%a8%d8%a7%d9%84%d8%ac%d9%85%d8%a7%d9%84/%d8%a7%d9%84%d8%b9%d9%86%d8%a7%d9%8a%d8%a9-%d8%a8%d8%a7%d9%84%d8%a8%d8%b4%d8%b1%d8%a9/%d9%83%d8%b1%d9%8a%d9%85-%d8%a7%d9%84%d8%b9%d9%8a%d9%86/\n",
      "https://seif-online.com/en/product-category/%d8%a7%d9%84%d8%b9%d9%86%d8%a7%d9%8a%d8%a9-%d8%a8%d8%a7%d9%84%d8%ac%d9%85%d8%a7%d9%84/%d8%a7%d9%84%d8%b9%d9%86%d8%a7%d9%8a%d8%a9-%d8%a8%d8%a7%d9%84%d8%a8%d8%b4%d8%b1%d8%a9/%d9%85%d9%86%d8%aa%d8%ac%d8%a7%d8%aa-%d8%aa%d9%81%d8%aa%d9%8a%d8%ad-%d8%a7%d9%84%d8%a8%d8%b4%d8%b1%d8%a9/\n",
      "https://seif-online.com/en/product-category/%d8%a7%d9%84%d8%b9%d9%86%d8%a7%d9%8a%d8%a9-%d8%a8%d8%a7%d9%84%d8%ac%d9%85%d8%a7%d9%84/%d8%a7%d9%84%d8%b9%d9%86%d8%a7%d9%8a%d8%a9-%d8%a8%d8%a7%d9%84%d8%a8%d8%b4%d8%b1%d8%a9/%d9%85%d9%86%d8%b8%d9%81-%d9%84%d9%84%d9%88%d8%ac%d9%87-%d9%88%d8%a7%d9%84%d8%a8%d8%b4%d8%b1%d8%a9/\n",
      "https://seif-online.com/en/product-category/%d8%a7%d9%84%d8%b9%d9%86%d8%a7%d9%8a%d8%a9-%d8%a8%d8%a7%d9%84%d8%ac%d9%85%d8%a7%d9%84/%d8%a7%d9%84%d8%b9%d9%86%d8%a7%d9%8a%d8%a9-%d8%a8%d8%a7%d9%84%d8%a8%d8%b4%d8%b1%d8%a9/%d9%85%d9%86%d8%aa%d8%ac%d8%a7%d8%aa-%d8%aa%d8%b1%d8%b7%d9%8a%d8%a8-%d8%a7%d9%84%d8%a8%d8%b4%d8%b1%d8%a9/\n",
      "https://seif-online.com/en/product-category/%d8%a7%d9%84%d8%b9%d9%86%d8%a7%d9%8a%d8%a9-%d8%a8%d8%a7%d9%84%d8%ac%d9%85%d8%a7%d9%84/%d8%a7%d9%84%d8%b9%d9%86%d8%a7%d9%8a%d8%a9-%d8%a8%d8%a7%d9%84%d8%a8%d8%b4%d8%b1%d8%a9/%d8%aa%d9%88%d9%86%d8%b1-%d9%88%d8%b3%d9%8a%d8%b1%d9%85-%d9%84%d9%84%d8%a8%d8%b4%d8%b1%d8%a9/\n",
      "https://seif-online.com/en/product-category/%d8%a7%d9%84%d8%b9%d9%86%d8%a7%d9%8a%d8%a9-%d8%a8%d8%a7%d9%84%d8%ac%d9%85%d8%a7%d9%84/%d8%a7%d9%84%d8%b9%d9%86%d8%a7%d9%8a%d8%a9-%d8%a8%d8%a7%d9%84%d8%a8%d8%b4%d8%b1%d8%a9/%d9%85%d8%a7%d8%b3%d9%83%d8%a7%d8%aa-%d9%88%d9%85%d9%82%d8%b4%d8%b1-%d9%84%d9%84%d9%88%d8%ac%d9%87/\n",
      "https://seif-online.com/en/product-category/%d8%a7%d9%84%d8%b9%d9%86%d8%a7%d9%8a%d8%a9-%d8%a8%d8%a7%d9%84%d8%ac%d9%85%d8%a7%d9%84/%d8%a7%d9%84%d8%b9%d9%86%d8%a7%d9%8a%d8%a9-%d8%a8%d8%a7%d9%84%d8%a8%d8%b4%d8%b1%d8%a9/%d9%85%d8%b2%d9%8a%d9%84-%d8%a7%d9%84%d9%85%d9%83%d9%8a%d8%a7%d8%ac/\n",
      "https://seif-online.com/en/product-category/%d8%a7%d9%84%d8%b9%d9%86%d8%a7%d9%8a%d8%a9-%d8%a8%d8%a7%d9%84%d8%ac%d9%85%d8%a7%d9%84/%d8%a7%d9%84%d8%b9%d9%86%d8%a7%d9%8a%d8%a9-%d8%a8%d8%a7%d9%84%d8%a8%d8%b4%d8%b1%d8%a9/%d9%85%d9%86%d8%aa%d8%ac%d8%a7%d8%aa-%d8%b9%d9%84%d8%a7%d8%ac-%d8%ad%d8%a8-%d8%a7%d9%84%d8%b4%d8%a8%d8%a7%d8%a8/\n",
      "https://seif-online.com/en/product-category/%d8%a7%d9%84%d8%b9%d9%86%d8%a7%d9%8a%d8%a9-%d8%a8%d8%a7%d9%84%d8%ac%d9%85%d8%a7%d9%84/%d8%a7%d9%84%d8%b9%d9%86%d8%a7%d9%8a%d8%a9-%d8%a8%d8%a7%d9%84%d8%a8%d8%b4%d8%b1%d8%a9/%d8%a7%d9%84%d8%b9%d9%86%d8%a7%d9%8a%d8%a9-%d8%a8%d8%a7%d9%84%d8%b4%d9%81%d8%a7%d9%87/\n",
      "https://seif-online.com/en/product-category/%d8%a7%d9%84%d8%b9%d9%86%d8%a7%d9%8a%d8%a9-%d8%a8%d8%a7%d9%84%d8%ac%d9%85%d8%a7%d9%84/%d8%a7%d9%84%d8%b9%d9%86%d8%a7%d9%8a%d8%a9-%d8%a8%d8%a7%d9%84%d8%a8%d8%b4%d8%b1%d8%a9/%d9%85%d9%86%d8%aa%d8%ac%d8%a7%d8%aa-%d8%a7%d9%84%d8%ad%d9%85%d8%a7%d9%8a%d8%a9-%d9%85%d9%86-%d8%a7%d9%84%d8%b4%d9%85%d8%b3/\n",
      "https://seif-online.com/en/product-category/%d8%a7%d9%84%d8%b9%d9%86%d8%a7%d9%8a%d8%a9-%d8%a8%d8%a7%d9%84%d8%ac%d9%85%d8%a7%d9%84/%d8%a7%d9%84%d8%aa%d8%ac%d9%85%d9%8a%d9%84-%d9%88-%d8%a7sp81t82tp1d91tp1d9sp81tp1d/%d8%a7%d9%84%d8%b9%d8%b7%d9%88%d8%b1/\n",
      "https://seif-online.com/en/product-category/%d8%a7%d9%84%d8%b9%d9%86%d8%a7%d9%8a%d8%a9-%d8%a8%d8%a7%d9%84%d8%ac%d9%85%d8%a7%d9%84/%d8%a7%d9%84%d8%aa%d8%ac%d9%85%d9%8a%d9%84-%d9%88-%d8%a7sp81t82tp1d91tp1d9sp81tp1d/%d9%85%d9%83%d9%8a%d8%a7%d8%ac-%d9%84%d9%84%d8%b9%d9%8a%d9%86/\n",
      "https://seif-online.com/en/product-category/%d8%a7%d9%84%d8%b9%d9%86%d8%a7%d9%8a%d8%a9-%d8%a8%d8%a7%d9%84%d8%ac%d9%85%d8%a7%d9%84/%d8%a7%d9%84%d8%aa%d8%ac%d9%85%d9%8a%d9%84-%d9%88-%d8%a7sp81t82tp1d91tp1d9sp81tp1d/%d9%85%d9%83%d9%8a%d8%a7%d8%ac-%d9%84%d9%84%d9%88%d8%ac%d9%87/\n",
      "https://seif-online.com/en/product-category/%d8%a7%d9%84%d8%b9%d9%86%d8%a7%d9%8a%d8%a9-%d8%a8%d8%a7%d9%84%d8%ac%d9%85%d8%a7%d9%84/%d8%a7%d9%84%d8%aa%d8%ac%d9%85%d9%8a%d9%84-%d9%88-%d8%a7sp81t82tp1d91tp1d9sp81tp1d/%d8%b9%d8%b7%d9%88%d8%b1-yves-rocher/\n",
      "https://seif-online.com/en/product-category/%d8%a7%d9%84%d8%b9%d9%86%d8%a7%d9%8a%d8%a9-%d8%a8%d8%a7%d9%84%d8%ac%d9%85%d8%a7%d9%84/%d8%a7%d9%84%d8%aa%d8%ac%d9%85%d9%8a%d9%84-%d9%88-%d8%a7sp81t82tp1d91tp1d9sp81tp1d/ardell/\n",
      "https://seif-online.com/en/product-category/%d8%a7%d9%84%d8%b9%d9%86%d8%a7%d9%8a%d8%a9-%d8%a8%d8%a7%d9%84%d8%ac%d9%85%d8%a7%d9%84/%d8%a7%d9%84%d8%aa%d8%ac%d9%85%d9%8a%d9%84-%d9%88-%d8%a7sp81t82tp1d91tp1d9sp81tp1d/%d8%b9%d8%b7%d9%88%d8%b1-%d8%b3%d9%8a%d9%81/\n",
      "https://seif-online.com/en/product-category/%d8%a7%d9%84%d8%b9%d9%86%d8%a7%d9%8a%d8%a9-%d8%a8%d8%a7%d9%84%d8%ac%d9%85%d8%a7%d9%84/%d8%a7%d9%84%d8%aa%d8%ac%d9%85%d9%8a%d9%84-%d9%88-%d8%a7sp81t82tp1d91tp1d9sp81tp1d/%d8%a7%d8%af%d9%88%d8%a7%d8%aa-%d8%a7%d9%84%d8%aa%d8%ac%d9%85%d9%8a%d9%84/\n",
      "https://seif-online.com/en/product-category/%d8%a7%d9%84%d8%b9%d9%86%d8%a7%d9%8a%d8%a9-%d8%a8%d8%a7%d9%84%d8%ac%d9%85%d8%a7%d9%84/%d8%a7%d9%84%d8%aa%d8%ac%d9%85%d9%8a%d9%84-%d9%88-%d8%a7sp81t82tp1d91tp1d9sp81tp1d/%d8%a7%d9%84%d8%b9%d9%86%d8%a7%d9%8a%d8%a9-%d8%a8%d8%a7%d9%84%d8%a3%d8%b8%d8%a7%d9%81%d8%b1/\n",
      "https://seif-online.com/en/product-category/%d8%a7%d9%84%d8%b9%d9%86%d8%a7%d9%8a%d8%a9-%d8%a8%d8%a7%d9%84%d8%ac%d9%85%d8%a7%d9%84/%d8%a7%d9%84%d8%aa%d8%ac%d9%85%d9%8a%d9%84-%d9%88-%d8%a7sp81t82tp1d91tp1d9sp81tp1d/%d8%b9%d9%84%d8%a7%d8%ac-%d9%84%d9%84%d8%b1%d9%85%d9%88%d8%b4-%d9%88%d8%a7%d9%84%d8%ad%d9%88%d8%a7%d8%ac%d8%a8/\n",
      "https://seif-online.com/en/product-category/%d8%a7%d9%84%d8%b9%d9%86%d8%a7%d9%8a%d8%a9-%d8%a8%d8%a7%d9%84%d8%ac%d9%85%d8%a7%d9%84/%d8%a7%d9%84%d8%b9%d9%86%d8%a7%d9%8a%d8%a9-%d8%a8%d8%a7%d9%84%d8%b4%d8%b9%d8%b1/%d9%85%d9%86%d8%aa%d8%ac%d8%a7%d8%aa-%d8%aa%d8%b5%d9%81%d9%8a%d9%81-%d8%a7%d9%84%d8%b4%d8%b9%d8%b1/\n",
      "https://seif-online.com/en/product-category/%d8%a7%d9%84%d8%b9%d9%86%d8%a7%d9%8a%d8%a9-%d8%a8%d8%a7%d9%84%d8%ac%d9%85%d8%a7%d9%84/%d8%a7%d9%84%d8%b9%d9%86%d8%a7%d9%8a%d8%a9-%d8%a8%d8%a7%d9%84%d8%b4%d8%b9%d8%b1/%d8%b4%d8%a7%d9%85%d8%a8%d9%88-%d9%84%d9%84%d8%b4%d8%b9%d8%b1/\n",
      "https://seif-online.com/en/product-category/%d8%a7%d9%84%d8%b9%d9%86%d8%a7%d9%8a%d8%a9-%d8%a8%d8%a7%d9%84%d8%ac%d9%85%d8%a7%d9%84/%d8%a7%d9%84%d8%b9%d9%86%d8%a7%d9%8a%d8%a9-%d8%a8%d8%a7%d9%84%d8%b4%d8%b9%d8%b1/%d8%a8%d9%84%d8%b3%d9%85-%d9%84%d9%84%d8%b4%d8%b9%d8%b1/\n",
      "https://seif-online.com/en/product-category/%d8%a7%d9%84%d8%b9%d9%86%d8%a7%d9%8a%d8%a9-%d8%a8%d8%a7%d9%84%d8%ac%d9%85%d8%a7%d9%84/%d8%a7%d9%84%d8%b9%d9%86%d8%a7%d9%8a%d8%a9-%d8%a8%d8%a7%d9%84%d8%b4%d8%b9%d8%b1/%d8%ad%d9%85%d8%a7%d9%85-%d9%83%d8%b1%d9%8a%d9%85-%d9%84%d9%84%d8%b4%d8%b9%d8%b1/\n",
      "https://seif-online.com/en/product-category/%d8%a7%d9%84%d8%b9%d9%86%d8%a7%d9%8a%d8%a9-%d8%a8%d8%a7%d9%84%d8%ac%d9%85%d8%a7%d9%84/%d8%a7%d9%84%d8%b9%d9%86%d8%a7%d9%8a%d8%a9-%d8%a8%d8%a7%d9%84%d8%b4%d8%b9%d8%b1/%d8%b2%d9%8a%d8%aa-%d9%88-%d8%b3%d9%8a%d8%b1%d9%85-%d9%88%d8%b3%d8%a8%d8%b1%d8%a7%d9%89-%d9%84%d9%84%d8%b4%d8%b9%d8%b1/\n",
      "https://seif-online.com/en/product-category/%d8%a7%d9%84%d8%b9%d9%86%d8%a7%d9%8a%d8%a9-%d8%a8%d8%a7%d9%84%d8%ac%d9%85%d8%a7%d9%84/%d8%a7%d9%84%d8%b9%d9%86%d8%a7%d9%8a%d8%a9-%d8%a8%d8%a7%d9%84%d8%b4%d8%b9%d8%b1/%d9%85%d9%86%d8%aa%d8%ac%d8%a7%d8%aa-%d9%82%d8%b4%d8%b1%d8%a9-%d8%a7%d9%84%d8%b4%d8%b9%d8%b1/\n"
     ]
    },
    {
     "name": "stdout",
     "output_type": "stream",
     "text": [
      "https://seif-online.com/en/product-category/%d8%a7%d9%84%d8%b9%d9%86%d8%a7%d9%8a%d8%a9-%d8%a8%d8%a7%d9%84%d8%ac%d9%85%d8%a7%d9%84/%d8%a7%d9%84%d8%b9%d9%86%d8%a7%d9%8a%d8%a9-%d8%a8%d8%a7%d9%84%d8%b4%d8%b9%d8%b1/%d9%85%d9%86%d8%aa%d8%ac%d8%a7%d8%aa-%d8%aa%d8%b3%d8%a7%d9%82%d8%b7-%d8%a7%d9%84%d8%b4%d8%b9%d8%b1/\n",
      "https://seif-online.com/en/product-category/%d8%a7%d9%84%d8%b9%d9%86%d8%a7%d9%8a%d8%a9-%d8%a8%d8%a7%d9%84%d8%ac%d9%85%d8%a7%d9%84/%d8%a7%d9%84%d8%b9%d9%86%d8%a7%d9%8a%d8%a9-%d8%a8%d8%a7%d9%84%d8%b4%d8%b9%d8%b1/%d9%85%d9%86%d8%aa%d8%ac%d8%a7%d8%aa-%d8%b9%d9%84%d8%a7%d8%ac-%d8%a7%d9%84%d8%b4%d8%b9%d8%b1/\n",
      "https://seif-online.com/en/product-category/%d8%a7%d9%84%d8%b9%d9%86%d8%a7%d9%8a%d8%a9-%d8%a8%d8%a7%d9%84%d8%ac%d9%85%d8%a7%d9%84/%d8%a7%d9%84%d8%b9%d9%86%d8%a7%d9%8a%d8%a9-%d8%a8%d8%a7%d9%84%d8%b4%d8%b9%d8%b1/%d9%85%d8%b3%d8%aa%d9%84%d8%b2%d9%85%d8%a7%d8%aa-%d8%a7%d9%84%d8%b4%d8%b9%d8%b1/\n",
      "https://seif-online.com/en/product-category/%d8%a7%d9%84%d8%b9%d9%86%d8%a7%d9%8a%d8%a9-%d8%a8%d8%a7%d9%84%d8%ac%d9%85%d8%a7%d9%84/%d8%a7%d9%84%d8%b9%d9%86%d8%a7%d9%8a%d8%a9-%d8%a8%d8%a7%d9%84%d8%b4%d8%b9%d8%b1/%d8%a7%d9%84%d8%a9-%d8%aa%d8%b5%d9%81%d9%8a%d9%81-%d8%a7%d9%84%d8%b4%d8%b9%d8%b1/\n",
      "https://seif-online.com/en/product-category/%d8%a7%d9%84%d8%b9%d9%86%d8%a7%d9%8a%d8%a9-%d8%a8%d8%a7%d9%84%d8%ac%d9%85%d8%a7%d9%84/%d8%a7%d9%84%d8%b9%d9%86%d8%a7%d9%8a%d8%a9-%d8%a8%d8%a7%d9%84%d8%b4%d8%b9%d8%b1/%d9%85%d9%86%d8%aa%d8%ac%d8%a7%d8%aa-%d8%aa%d9%84%d9%88%d9%8a%d9%86-%d9%88-%d8%b5%d8%a8%d8%ba%d8%a7%d8%aa-%d8%a7%d9%84%d8%b4%d8%b9%d8%b1/\n",
      "https://seif-online.com/en/product-category/%d8%a7%d9%84%d8%b9%d9%86%d8%a7%d9%8a%d8%a9-%d8%a8%d8%a7%d9%84%d8%ac%d9%85%d8%a7%d9%84/%d8%a7%d9%84%d8%b9%d9%86%d8%a7%d9%8a%d8%a9-%d8%a8%d8%a7%d9%84%d8%ac%d8%b3%d9%85/%d8%a3%d8%ac%d9%87%d8%b2%d8%a9-%d9%88%d9%85%d8%b3%d8%aa%d9%84%d8%b2%d9%85%d8%a7%d8%aa-%d8%a7%d9%84%d8%ac%d8%b3%d9%85/\n",
      "https://seif-online.com/en/product-category/%d8%a7%d9%84%d8%b9%d9%86%d8%a7%d9%8a%d8%a9-%d8%a8%d8%a7%d9%84%d8%ac%d9%85%d8%a7%d9%84/%d8%a7%d9%84%d8%b9%d9%86%d8%a7%d9%8a%d8%a9-%d8%a8%d8%a7%d9%84%d8%ac%d8%b3%d9%85/%d8%a7%d9%84%d8%b9%d9%86%d8%a7%d9%8a%d8%a9-%d8%a8%d8%a7%d9%84%d8%a7%d9%8a%d8%af%d9%89/\n",
      "https://seif-online.com/en/product-category/%d8%a7%d9%84%d8%b9%d9%86%d8%a7%d9%8a%d8%a9-%d8%a8%d8%a7%d9%84%d8%ac%d9%85%d8%a7%d9%84/%d8%a7%d9%84%d8%b9%d9%86%d8%a7%d9%8a%d8%a9-%d8%a8%d8%a7%d9%84%d8%ac%d8%b3%d9%85/%d8%a7%d9%84%d8%b9%d9%86%d8%a7%d9%8a%d8%a9-%d8%a8%d8%a7%d9%84%d9%82%d8%af%d9%85/\n",
      "https://seif-online.com/en/product-category/%d8%a7%d9%84%d8%b9%d9%86%d8%a7%d9%8a%d8%a9-%d8%a8%d8%a7%d9%84%d8%ac%d9%85%d8%a7%d9%84/%d8%a7%d9%84%d8%b9%d9%86%d8%a7%d9%8a%d8%a9-%d8%a8%d8%a7%d9%84%d8%ac%d8%b3%d9%85/%d8%ba%d8%b3%d9%88%d9%84-%d9%88%d9%84%d9%88%d8%b4%d9%86-%d9%88%d8%b4%d8%a7%d9%88%d8%b1-%d8%ac%d9%84/\n",
      "https://seif-online.com/en/product-category/%d8%a7%d9%84%d8%b9%d9%86%d8%a7%d9%8a%d8%a9-%d8%a8%d8%a7%d9%84%d8%ac%d9%85%d8%a7%d9%84/%d8%a7%d9%84%d8%b9%d9%86%d8%a7%d9%8a%d8%a9-%d8%a8%d8%a7%d9%84%d8%ac%d8%b3%d9%85/%d9%85%d9%86%d8%b8%d9%81-%d9%88%d9%85%d9%82%d8%b4%d8%b1-%d9%84%d9%84%d8%ac%d8%b3%d9%85/\n",
      "https://seif-online.com/en/product-category/%d8%a7%d9%84%d8%b9%d9%86%d8%a7%d9%8a%d8%a9-%d8%a8%d8%a7%d9%84%d8%ac%d9%85%d8%a7%d9%84/%d8%a7%d9%84%d8%b9%d9%86%d8%a7%d9%8a%d8%a9-%d8%a8%d8%a7%d9%84%d8%ac%d8%b3%d9%85/%d9%85%d8%b1%d8%b7%d8%a8%d8%a7%d8%aa-%d8%a7%d9%84%d8%ac%d8%b3%d9%85/\n",
      "https://seif-online.com/en/product-category/%d8%a7%d9%84%d8%b9%d9%86%d8%a7%d9%8a%d8%a9-%d8%a8%d8%a7%d9%84%d8%ac%d9%85%d8%a7%d9%84/%d8%a7%d9%84%d8%b9%d9%86%d8%a7%d9%8a%d8%a9-%d8%a8%d8%a7%d9%84%d8%ac%d8%b3%d9%85/%d8%a3%d8%af%d9%88%d8%a7%d8%aa-%d9%88%d9%85%d8%b3%d8%aa%d9%84%d8%b2%d9%85%d8%a7%d8%aa-%d8%a7%d9%84%d8%a7%d8%b3%d8%aa%d8%ad%d9%85%d8%a7%d9%85/\n",
      "https://seif-online.com/en/product-category/%d8%a7%d9%84%d8%b9%d9%86%d8%a7%d9%8a%d8%a9-%d8%a8%d8%a7%d9%84%d8%ac%d9%85%d8%a7%d9%84/%d8%a7%d9%84%d8%b9%d9%86%d8%a7%d9%8a%d8%a9-%d8%a8%d8%a7%d9%84%d8%ac%d8%b3%d9%85/%d8%b5%d8%a7%d8%a8%d9%88%d9%86-%d9%88%d8%ba%d8%b3%d9%88%d9%84-%d9%84%d9%84%d8%a3%d9%8a%d8%af%d9%89/\n",
      "https://seif-online.com/en/product-category/%d8%a7%d9%84%d8%b9%d9%86%d8%a7%d9%8a%d8%a9-%d8%a8%d8%a7%d9%84%d8%ac%d9%85%d8%a7%d9%84/%d8%a7%d9%84%d8%b9%d9%86%d8%a7%d9%8a%d8%a9-%d8%a8%d8%a7%d9%84%d8%ac%d8%b3%d9%85/%d9%83%d9%88%d9%84%d9%88%d9%86%d9%8a%d8%a7-%d9%88%d9%85%d8%b9%d8%b7%d8%b1-%d9%84%d9%84%d8%ac%d8%b3%d9%85/\n",
      "https://seif-online.com/en/product-category/%d8%a7%d9%84%d8%b9%d9%86%d8%a7%d9%8a%d8%a9-%d8%a8%d8%a7%d9%84%d8%ac%d9%85%d8%a7%d9%84/%d8%a7%d9%84%d8%b9%d9%86%d8%a7%d9%8a%d8%a9-%d8%a8%d8%a7%d9%84%d8%ac%d8%b3%d9%85/%d9%85%d9%86%d8%a7%d8%af%d9%8a%d9%84-%d8%ac%d8%a7%d9%81%d8%a9/\n",
      "https://seif-online.com/en/product-category/%d8%a7%d9%84%d8%b9%d9%86%d8%a7%d9%8a%d8%a9-%d8%a8%d8%a7%d9%84%d8%ac%d9%85%d8%a7%d9%84/%d8%a7%d9%84%d8%b9%d9%86%d8%a7%d9%8a%d8%a9-%d8%a8%d8%a7%d9%84%d8%ac%d8%b3%d9%85/%d9%85%d8%b2%d9%8a%d9%84%d8%a7%d8%aa-%d8%a7%d9%84%d8%b9%d8%b1%d9%82-%d9%88%d9%85%d8%b6%d8%a7%d8%af%d8%a7%d8%aa-%d8%a7%d9%84%d8%aa%d8%b9%d8%b1%d9%82/\n",
      "https://seif-online.com/en/product-category/%d8%a7%d9%84%d8%b9%d9%86%d8%a7%d9%8a%d8%a9-%d8%a8%d8%a7%d9%84%d8%ac%d9%85%d8%a7%d9%84/%d8%a7%d9%84%d8%b9%d9%86%d8%a7%d9%8a%d8%a9-%d8%a8%d8%a7%d9%84%d8%ac%d8%b3%d9%85/%d9%85%d9%86%d8%a7%d8%af%d9%8a%d9%84-%d9%85%d8%a8%d9%84%d9%84%d8%a9/\n",
      "https://seif-online.com/en/product-category/%d8%a7%d9%84%d8%b9%d9%86%d8%a7%d9%8a%d8%a9-%d8%a8%d8%a7%d9%84%d8%ac%d9%85%d8%a7%d9%84/%d8%a7%d9%84%d8%b9%d9%86%d8%a7%d9%8a%d8%a9-%d8%a8%d8%a7%d9%84%d8%ac%d8%b3%d9%85/%d9%82%d8%b7%d9%86-%d8%a3%d8%b0%d9%86/\n",
      "https://seif-online.com/en/product-category/%d8%a7%d9%84%d8%b9%d9%86%d8%a7%d9%8a%d8%a9-%d8%a7%d9%84%d8%b4%d8%ae%d8%b5%d9%8a%d8%a9/%d8%a7%d9%84%d8%b9%d9%86%d8%a7%d9%8a%d8%a9-%d8%a8%d8%a7%d9%84%d9%81%d9%85/%d9%85%d8%b6%d9%85%d8%b6%d8%a9-%d9%88%d8%ba%d8%b1%d8%ba%d8%b1%d8%a9-%d9%84%d9%84%d9%81%d9%85/\n",
      "https://seif-online.com/en/product-category/%d8%a7%d9%84%d8%b9%d9%86%d8%a7%d9%8a%d8%a9-%d8%a7%d9%84%d8%b4%d8%ae%d8%b5%d9%8a%d8%a9/%d8%a7%d9%84%d8%b9%d9%86%d8%a7%d9%8a%d8%a9-%d8%a8%d8%a7%d9%84%d9%81%d9%85/%d9%85%d8%b9%d8%b7%d8%b1-%d9%84%d9%84%d9%81%d9%85/\n",
      "https://seif-online.com/en/product-category/%d8%a7%d9%84%d8%b9%d9%86%d8%a7%d9%8a%d8%a9-%d8%a7%d9%84%d8%b4%d8%ae%d8%b5%d9%8a%d8%a9/%d8%a7%d9%84%d8%b9%d9%86%d8%a7%d9%8a%d8%a9-%d8%a8%d8%a7%d9%84%d9%81%d9%85/%d8%ae%d9%8a%d9%88%d8%b7-%d8%a7%d8%b3%d9%86%d8%a7%d9%86/\n",
      "https://seif-online.com/en/product-category/%d8%a7%d9%84%d8%b9%d9%86%d8%a7%d9%8a%d8%a9-%d8%a7%d9%84%d8%b4%d8%ae%d8%b5%d9%8a%d8%a9/%d8%a7%d9%84%d8%b9%d9%86%d8%a7%d9%8a%d8%a9-%d8%a8%d8%a7%d9%84%d9%81%d9%85/%d8%aa%d8%a8%d9%8a%d9%8a%d8%b6-%d8%a7%d9%84%d8%a7%d8%b3%d9%86%d8%a7%d9%86/\n",
      "https://seif-online.com/en/product-category/%d8%a7%d9%84%d8%b9%d9%86%d8%a7%d9%8a%d8%a9-%d8%a7%d9%84%d8%b4%d8%ae%d8%b5%d9%8a%d8%a9/%d8%a7%d9%84%d8%b9%d9%86%d8%a7%d9%8a%d8%a9-%d8%a8%d8%a7%d9%84%d9%81%d9%85/%d8%b5%d8%ad%d8%a9-%d8%a7%d9%84%d9%81%d9%85-%d9%88%d8%a7%d9%84%d8%a7%d8%b3%d9%86%d8%a7%d9%86/\n",
      "https://seif-online.com/en/product-category/%d8%a7%d9%84%d8%b9%d9%86%d8%a7%d9%8a%d8%a9-%d8%a7%d9%84%d8%b4%d8%ae%d8%b5%d9%8a%d8%a9/%d8%a7%d9%84%d8%b9%d9%86%d8%a7%d9%8a%d8%a9-%d8%a8%d8%a7%d9%84%d9%81%d9%85/%d9%81%d8%b1%d8%b4-%d8%a7%d8%b3%d9%86%d8%a7%d9%86-%d9%84%d9%84%d9%83%d8%a8%d8%a7%d8%b1/\n",
      "https://seif-online.com/en/product-category/%d8%a7%d9%84%d8%b9%d9%86%d8%a7%d9%8a%d8%a9-%d8%a7%d9%84%d8%b4%d8%ae%d8%b5%d9%8a%d8%a9/%d8%a7%d9%84%d8%b9%d9%86%d8%a7%d9%8a%d8%a9-%d8%a8%d8%a7%d9%84%d9%81%d9%85/%d9%85%d8%b9%d8%ac%d9%88%d9%86-%d8%a7%d8%b3%d9%86%d8%a7%d9%86-%d9%84%d9%84%d9%83%d8%a8%d8%a7%d8%b1/\n",
      "https://seif-online.com/en/product-category/%d8%a7%d9%84%d8%b9%d9%86%d8%a7%d9%8a%d8%a9-%d8%a7%d9%84%d8%b4%d8%ae%d8%b5%d9%8a%d8%a9/%d8%a7%d9%84%d8%b9%d9%86%d8%a7%d9%8a%d8%a9-%d8%a8%d8%a7%d9%84%d9%81%d9%85/%d8%a7%d9%84%d8%b9%d9%86%d8%a7%d9%8a%d8%a9-%d8%a8%d8%b7%d9%82%d9%85-%d8%a7%d9%84%d8%a7%d8%b3%d9%86%d8%a7%d9%86/\n",
      "https://seif-online.com/en/product-category/%d8%a7%d9%84%d8%b9%d9%86%d8%a7%d9%8a%d8%a9-%d8%a7%d9%84%d8%b4%d8%ae%d8%b5%d9%8a%d8%a9/%d8%a7%d9%84%d8%b9%d9%86%d8%a7%d9%8a%d8%a9-%d8%a8%d8%a7%d9%84%d8%b1%d8%ac%d9%84/%d9%85%d9%86%d8%aa%d8%ac%d8%a7%d8%aa-%d9%88%d9%85%d8%b3%d8%aa%d9%84%d8%b2%d9%85%d8%a7%d8%aa-%d8%a7%d9%84%d8%ad%d9%84%d8%a7%d9%82%d8%a9/\n",
      "https://seif-online.com/en/product-category/%d8%a7%d9%84%d8%b9%d9%86%d8%a7%d9%8a%d8%a9-%d8%a7%d9%84%d8%b4%d8%ae%d8%b5%d9%8a%d8%a9/%d8%a7%d9%84%d8%b9%d9%86%d8%a7%d9%8a%d8%a9-%d8%a8%d8%a7%d9%84%d8%b1%d8%ac%d9%84/%d8%a7%d9%84%d8%b9%d9%86%d8%a7%d9%8a%d8%a9-%d8%a8%d8%a7%d9%84%d8%b4%d8%b9%d8%b1-%d9%84%d9%84%d8%b1%d8%ac%d8%a7%d9%84/\n"
     ]
    },
    {
     "name": "stdout",
     "output_type": "stream",
     "text": [
      "https://seif-online.com/en/product-category/%d8%a7%d9%84%d8%b9%d9%86%d8%a7%d9%8a%d8%a9-%d8%a7%d9%84%d8%b4%d8%ae%d8%b5%d9%8a%d8%a9/%d8%a7%d9%84%d8%b9%d9%86%d8%a7%d9%8a%d8%a9-%d8%a8%d8%a7%d9%84%d8%b1%d8%ac%d9%84/%d8%a7%d9%84%d8%b9%d9%86%d8%a7%d9%8a%d8%a9-%d8%a8%d8%a7%d9%84%d8%a8%d8%b4%d8%b1%d8%a9-%d9%84%d9%84%d8%b1%d8%ac%d8%a7%d9%84/\n",
      "https://seif-online.com/en/product-category/%d8%a7%d9%84%d8%b9%d9%86%d8%a7%d9%8a%d8%a9-%d8%a7%d9%84%d8%b4%d8%ae%d8%b5%d9%8a%d8%a9/%d8%a7%d9%84%d8%b9%d9%86%d8%a7%d9%8a%d8%a9-%d8%a8%d8%a7%d9%84%d8%b1%d8%ac%d9%84/%d8%b9%d8%a7%d8%b2%d9%84-%d8%b7%d8%a8%d9%89-%d9%88%d8%ac%d9%84-%d9%85%d8%b2%d9%84%d9%82/\n",
      "https://seif-online.com/en/product-category/%d8%a7%d9%84%d8%b9%d9%86%d8%a7%d9%8a%d8%a9-%d8%a7%d9%84%d8%b4%d8%ae%d8%b5%d9%8a%d8%a9/%d8%a7%d9%84%d8%b9%d9%86%d8%a7%d9%8a%d8%a9-%d8%a8%d8%a7%d9%84%d8%b1%d8%ac%d9%84/%d9%85%d8%b2%d9%8a%d9%84%d8%a7%d8%aa-%d8%a7%d9%84%d8%b9%d8%b1%d9%82-%d9%84%d9%84%d8%b1%d8%ac%d8%a7%d9%84-%d8%a7%d9%84%d8%b9%d9%86%d8%a7%d9%8a%d8%a9-%d8%a8%d8%a7%d9%84%d8%b1%d8%ac%d9%84/\n",
      "https://seif-online.com/en/product-category/%d8%a7%d9%84%d8%b9%d9%86%d8%a7%d9%8a%d8%a9-%d8%a7%d9%84%d8%b4%d8%ae%d8%b5%d9%8a%d8%a9/%d8%a7%d9%84%d8%b9%d9%86%d8%a7%d9%8a%d8%a9-%d8%a8%d8%a7%d9%84%d8%b1%d8%ac%d9%84/%d9%85%d8%a7%d9%83%d9%8a%d9%86%d8%a7%d8%aa-%d9%88%d8%b4%d9%81%d8%b1%d8%a7%d8%aa-%d8%a7%d9%84%d8%ad%d9%84%d8%a7%d9%82%d8%a9/\n",
      "https://seif-online.com/en/product-category/%d8%a7%d9%84%d8%b5%d8%ad%d8%a9/%d8%a7%d9%84%d8%b5%d8%ad%d8%a9-%d8%a7%d9%84%d8%ac%d9%86%d8%b3%d9%8a%d8%a9/%d8%a7%d9%84%d8%a3%d8%af%d9%88%d9%8a%d8%a9-%d8%a7%d9%84%d9%85%d9%86%d8%b4%d8%b7%d8%a9-%d9%84%d9%84%d8%ac%d9%86%d8%b3-%d9%84%d9%84%d8%b1%d8%ac%d8%a7%d9%84/\n",
      "https://seif-online.com/en/product-category/%d8%a7%d9%84%d8%b5%d8%ad%d8%a9/%d8%a7%d9%84%d8%b5%d8%ad%d8%a9-%d8%a7%d9%84%d8%ac%d9%86%d8%b3%d9%8a%d8%a9/%d8%ac%d9%84-%d9%85%d8%b2%d9%84%d9%82/\n",
      "https://seif-online.com/en/product-category/%d8%a7%d9%84%d8%b5%d8%ad%d8%a9/%d8%a7%d9%84%d8%b5%d8%ad%d8%a9-%d8%a7%d9%84%d8%ac%d9%86%d8%b3%d9%8a%d8%a9/%d8%a7%d9%84%d8%a3%d8%af%d9%88%d9%8a%d8%a9-%d8%a7%d9%84%d9%85%d9%86%d8%b4%d8%b7%d8%a9-%d9%84%d9%84%d8%ac%d9%86%d8%b3-%d9%84%d9%84%d8%b3%d9%8a%d8%af%d8%a7%d8%aa/\n",
      "https://seif-online.com/en/product-category/%d8%a7%d9%84%d8%b5%d8%ad%d8%a9/%d8%a7%d9%84%d9%81%d9%8a%d8%aa%d8%a7%d9%85%d9%8a%d9%86%d8%a7%d8%aa-%d9%88%d8%a7%d9%84%d9%85%d9%83%d9%85%d9%84%d8%a7%d8%aa-%d8%a7%d9%84%d8%ba%d8%b0%d8%a7%d8%a6%d9%8a%d8%a9/%d9%83%d8%a8%d8%a7%d8%b1/\n",
      "https://seif-online.com/en/product-category/%d8%a7%d9%84%d8%b5%d8%ad%d8%a9/%d8%a7%d9%84%d9%81%d9%8a%d8%aa%d8%a7%d9%85%d9%8a%d9%86%d8%a7%d8%aa-%d9%88%d8%a7%d9%84%d9%85%d9%83%d9%85%d9%84%d8%a7%d8%aa-%d8%a7%d9%84%d8%ba%d8%b0%d8%a7%d8%a6%d9%8a%d8%a9/%d8%b3%d9%8a%d8%af%d8%a7%d8%aa-%d9%88%d8%ad%d9%88%d8%a7%d9%85%d9%84/\n",
      "https://seif-online.com/en/product-category/%d8%a7%d9%84%d8%b5%d8%ad%d8%a9/%d8%a7%d9%84%d9%81%d9%8a%d8%aa%d8%a7%d9%85%d9%8a%d9%86%d8%a7%d8%aa-%d9%88%d8%a7%d9%84%d9%85%d9%83%d9%85%d9%84%d8%a7%d8%aa-%d8%a7%d9%84%d8%ba%d8%b0%d8%a7%d8%a6%d9%8a%d8%a9/%d8%a7%d8%b7%d9%81%d8%a7%d9%84/\n",
      "https://seif-online.com/en/product-category/%d8%a7%d9%84%d8%b5%d8%ad%d8%a9/%d8%a7%d9%84%d9%81%d9%8a%d8%aa%d8%a7%d9%85%d9%8a%d9%86%d8%a7%d8%aa-%d9%88%d8%a7%d9%84%d9%85%d9%83%d9%85%d9%84%d8%a7%d8%aa-%d8%a7%d9%84%d8%ba%d8%b0%d8%a7%d8%a6%d9%8a%d8%a9/%d8%a3%d8%af%d9%88%d9%8a%d8%a9-%d9%85%d9%82%d9%88%d9%8a%d8%a9-%d9%84%d9%84%d8%a3%d8%b9%d8%b5%d8%a7%d8%a8/\n",
      "https://seif-online.com/en/product-category/pharmaceutical/%d8%a3%d8%af%d9%88%d9%8a%d8%a9-%d8%a7%d9%84%d8%b5%d8%af%d8%a7%d8%b9-%d9%88%d8%aa%d8%b3%d9%83%d9%8a%d9%86-%d8%a7%d9%84%d8%a3%d9%84%d9%85/%d8%a7%d9%84%d9%85%d8%b3%d9%83%d9%86%d8%a7%d8%aa-%d8%a7%d9%84%d8%ba%d9%8a%d8%b1-%d9%85%d8%ae%d8%af%d8%b1%d8%a9/\n",
      "https://seif-online.com/en/product-category/pharmaceutical/%d8%a3%d8%af%d9%88%d9%8a%d8%a9-%d8%a7%d9%84%d8%b5%d8%af%d8%a7%d8%b9-%d9%88%d8%aa%d8%b3%d9%83%d9%8a%d9%86-%d8%a7%d9%84%d8%a3%d9%84%d9%85/%d8%a3%d8%af%d9%88%d9%8a%d8%a9-%d8%b9%d9%84%d8%a7%d8%ac-%d8%a7%d9%84%d8%b5%d8%af%d8%a7%d8%b9-%d8%a7%d9%84%d9%86%d8%b5%d9%81%d9%89/\n",
      "https://seif-online.com/en/product-category/pharmaceutical/medications/%d8%a7%d8%af%d9%88%d9%8a%d8%a9-%d8%a7%d9%84%d8%ac%d9%87%d8%a7%d8%b2-%d8%a7%d9%84%d9%87%d8%b6%d9%85%d9%89/\n",
      "https://seif-online.com/en/product-category/pharmaceutical/medications/%d8%a7%d9%84%d9%85%d8%b3%d8%aa%d8%ad%d8%b6%d8%b1%d8%a7%d8%aa-%d8%a7%d9%84%d9%85%d9%88%d8%b6%d8%b9%d9%8a%d8%a9-%d8%a7%d9%84%d8%b8%d8%a7%d9%87%d8%b1%d9%8a%d8%a9/\n",
      "https://seif-online.com/en/product-category/pharmaceutical/medications/%d9%85%d8%b3%d8%aa%d8%ad%d8%b6%d8%b1%d8%a7%d8%aa-%d8%a7%d9%84%d8%b9%d9%8a%d9%86-%d9%88%d8%a7%d9%84%d8%a7%d8%b0%d9%86-%d9%88%d8%a7%d9%84%d8%a7%d9%86%d9%81/\n",
      "https://seif-online.com/en/product-category/pharmaceutical/medications/%d8%a7%d8%af%d9%88%d9%8a%d8%a9-%d9%85%d9%82%d8%a7%d9%88%d9%85%d8%a9-%d9%84%d9%84%d8%b9%d8%af%d9%88%d9%89-%d8%a7%d9%84%d9%85%d9%8a%d9%83%d8%b1%d9%88%d8%a8%d9%8a%d8%a9/\n",
      "https://seif-online.com/en/product-category/pharmaceutical/medications/%d8%a7%d8%af%d9%88%d9%8a%d8%a9-%d8%a7%d9%84%d8%ac%d9%87%d8%a7%d8%b2-%d8%a7%d9%84%d8%aa%d9%86%d9%81%d8%b3%d9%89/\n",
      "https://seif-online.com/en/product-category/pharmaceutical/medications/%d8%a3%d8%af%d9%88%d9%8a%d8%a9-%d9%85%d8%a4%d8%ab%d8%b1%d8%a9-%d8%b9%d9%84%d9%89-%d8%a7%d9%84%d8%ac%d9%87%d8%a7%d8%b2-%d8%a7%d9%84%d8%b9%d8%b5%d8%a8%d9%89/\n",
      "https://seif-online.com/en/product-category/pharmaceutical/medications/%d8%a7%d8%af%d9%88%d9%8a%d8%a9-%d8%a7%d9%84%d9%86%d8%b3%d8%a7%d8%a1-%d9%88%d8%a7%d9%84%d9%88%d9%84%d8%a7%d8%af%d8%a9-%d9%88%d8%a7%d9%84%d9%85%d8%b3%d8%a7%d9%84%d9%83-%d8%a7%d9%84%d8%a8%d9%88%d9%84/\n",
      "https://seif-online.com/en/product-category/pharmaceutical/medications/%d8%a7%d8%af%d9%88%d9%8a%d8%a9-%d8%a7%d9%84%d8%ba%d8%af%d8%af-%d8%a7%d9%84%d8%b5%d9%85%d8%a7%d8%a1/\n",
      "https://seif-online.com/en/product-category/pharmaceutical/medications/%d8%a7%d9%84%d8%ac%d9%87%d8%a7%d8%b2-%d8%a7%d9%84%d8%b9%d8%b6%d9%84%d9%89-%d8%a7%d9%84%d8%b9%d8%b8%d9%85%d9%89/\n",
      "https://seif-online.com/en/product-category/pharmaceutical/medications/%d8%a7%d8%af%d9%88%d9%8a%d8%a9-%d9%85%d8%a4%d8%ab%d8%b1%d8%a9-%d8%b9%d9%84%d9%89-%d8%a7%d9%84%d9%82%d9%84%d8%a8-%d9%88%d8%a7%d9%84%d8%a3%d9%88%d8%b9%d9%8a%d8%a9/\n",
      "https://seif-online.com/en/product-category/pharmaceutical/medications/%d8%a7%d9%84%d9%85%d9%83%d9%85%d9%84%d8%a7%d8%aa-%d8%a7%d9%84%d8%ba%d8%b0%d8%a7%d8%a6%d9%8a%d8%a9-%d9%88%d8%a7%d9%84%d9%81%d9%8a%d8%aa%d8%a7%d9%85%d9%8a%d9%86%d8%a7%d8%aa/\n",
      "https://seif-online.com/en/product-category/pharmaceutical/medications/%d8%aa%d8%b4%d8%ae%d9%8a%d8%b5-%d8%a8%d8%a7%d9%84%d8%a3%d8%b4%d8%b9%d8%a9/\n",
      "https://seif-online.com/en/product-category/pharmaceutical/medications/%d8%b9%d9%84%d8%a7%d8%ac-%d8%a7%d9%84%d8%b3%d8%b1%d8%b7%d8%a7%d9%86-%d8%a7%d9%84%d8%b9%d9%84%d8%a7%d8%ac-%d8%a7%d9%84%d9%83%d9%8a%d9%85%d8%a7%d9%88%d9%8a/\n",
      "https://seif-online.com/en/product-category/pharmaceutical/medications/%d8%b9%d9%84%d8%a7%d8%ac-%d8%a7%d9%84%d8%aa%d8%b3%d9%85%d9%85-%d8%b2%d9%8a%d8%a7%d8%af%d8%a9-%d8%af%d9%88%d8%a7%d8%a1-%d8%a8%d8%a7%d9%84%d8%af%d9%85/\n",
      "https://seif-online.com/en/product-category/pharmaceutical/medications/%d8%a7%d8%af%d9%88%d9%8a%d8%a9-%d9%85%d8%a4%d8%ab%d8%b1%d8%a9-%d8%b9%d9%84%d9%89-%d8%a7%d9%84%d8%ac%d9%87%d8%a7%d8%b2-%d8%a7%d9%84%d9%85%d9%86%d8%a7%d8%b9%d9%89/\n",
      "https://seif-online.com/en/product-category/pharmaceutical/medications/%d9%85%d8%a3%d9%83%d9%88%d9%84%d8%a7%d8%aa-%d9%88-%d9%85%d8%b4%d8%b1%d9%88%d8%a8%d8%a7%d8%aa/\n",
      "https://seif-online.com/en/product-category/pharmaceutical/medications/%d8%aa%d8%b1%d9%83%d9%8a%d8%a8%d8%a7%d8%aa-%d9%85%d8%b9%d9%85%d9%84/\n",
      "https://seif-online.com/en/product-category/pharmaceutical/%d8%a7%d9%84%d8%a8%d8%b1%d8%af-%d9%88%d8%a7%d9%84%d9%83%d8%ad%d8%a9/%d8%a7%d9%82%d8%b1%d8%a7%d8%b5/\n",
      "https://seif-online.com/en/product-category/pharmaceutical/%d8%a7%d9%84%d8%a8%d8%b1%d8%af-%d9%88%d8%a7%d9%84%d9%83%d8%ad%d8%a9/%d8%b4%d8%b1%d8%a7%d8%a8/\n",
      "https://seif-online.com/en/product-category/pharmaceutical/%d8%a7%d9%84%d8%a8%d8%b1%d8%af-%d9%88%d8%a7%d9%84%d9%83%d8%ad%d8%a9/%d9%81%d9%88%d8%a7%d8%b1/\n",
      "https://seif-online.com/en/product-category/pharmaceutical/%d8%a7%d9%84%d8%a8%d8%b1%d8%af-%d9%88%d8%a7%d9%84%d9%83%d8%ad%d8%a9/%d8%a7%d9%82%d9%85%d8%a7%d8%b9/\n",
      "https://seif-online.com/en/product-category/pharmaceutical/%d8%a7%d9%84%d8%a8%d8%b1%d8%af-%d9%88%d8%a7%d9%84%d9%83%d8%ad%d8%a9/%d9%85%d8%b3%d8%aa%d9%86%d8%b4%d9%82/\n"
     ]
    },
    {
     "name": "stdout",
     "output_type": "stream",
     "text": [
      "https://seif-online.com/en/product-category/pharmaceutical/%d8%a7%d9%84%d8%a8%d8%b1%d8%af-%d9%88%d8%a7%d9%84%d9%83%d8%ad%d8%a9/%d8%a7%d8%b9%d8%b4%d8%a7%d8%a8/\n",
      "https://seif-online.com/en/product-category/accessories/%d9%85%d8%b3%d8%aa%d9%84%d8%b2%d9%85%d8%a7%d8%aa-%d8%b7%d8%a8%d9%8a%d8%a9/\n",
      "https://seif-online.com/en/product-category/accessories/%d9%85%d8%b3%d8%aa%d9%84%d8%b2%d9%85%d8%a7%d8%aa-%d8%b9%d8%a7%d9%85%d8%a9/\n",
      "https://seif-online.com/en/product-category/pharmaceutical/%d8%a3%d8%af%d9%88%d9%8a%d8%a9-%d8%a7%d9%84%d8%aa%d8%ae%d8%b3%d9%8a%d8%b3-%d9%88%d8%b6%d8%a8%d8%b7-%d8%a7%d9%84%d9%88%d8%b2%d9%86/%d8%a8%d8%af%d8%a7%d8%a6%d9%84-%d8%a7%d9%84%d8%b3%d9%83%d8%b1/\n",
      "https://seif-online.com/en/product-category/pharmaceutical/%d8%a3%d8%af%d9%88%d9%8a%d8%a9-%d8%a7%d9%84%d8%aa%d8%ae%d8%b3%d9%8a%d8%b3-%d9%88%d8%b6%d8%a8%d8%b7-%d8%a7%d9%84%d9%88%d8%b2%d9%86/%d8%a3%d8%b9%d8%b4%d8%a7%d8%a8-%d9%84%d9%84%d8%aa%d8%ae%d8%b3%d9%8a%d8%b3/\n",
      "https://seif-online.com/en/product-category/pharmaceutical/%d8%a3%d8%af%d9%88%d9%8a%d8%a9-%d8%a7%d9%84%d8%aa%d8%ae%d8%b3%d9%8a%d8%b3-%d9%88%d8%b6%d8%a8%d8%b7-%d8%a7%d9%84%d9%88%d8%b2%d9%86/%d9%85%d8%ab%d8%a8%d8%b7-%d9%84%d9%84%d8%b4%d9%87%d9%8a%d8%a9/\n"
     ]
    }
   ],
   "source": [
    "for category_name , url in categories.items():\n",
    "    browser.get(url)\n",
    "    html = browser.page_source\n",
    "    soup = BeautifulSoup(html,\"html.parser\")\n",
    "    sub_cat = soup.select('#main > div > div.col.large-9 > div > div.products.row.row-small.large-columns-4.medium-columns-3.small-columns-2.has-shadow.row-box-shadow-2-hover.has-equal-box-heights.equalize-box > div > div > a')\n",
    "    for i in range(len(sub_cat)):\n",
    "        sub_cat[i] = sub_cat[i].get('href')\n",
    "        browser.get(sub_cat[i])\n",
    "        print(sub_cat[i])\n",
    "        html = browser.page_source\n",
    "        soup = BeautifulSoup(html,\"html.parser\")\n",
    "        names = soup.select('p.name.product-title.woocommerce-loop-product__title')\n",
    "        prices = soup.select('div.price-wrapper > span')\n",
    "        types = np.repeat(category_name, len(names))\n",
    "        sub_category_data = {\n",
    "            'name':names,\n",
    "            'price':prices,\n",
    "            'type':types,\n",
    "        }\n",
    "        new_df = pd.DataFrame(sub_category_data)\n",
    "        new_df.price = new_df.price.apply(lambda x:x.text.split('\\xa0')[0])\n",
    "        new_df.name = new_df.name.apply(lambda x:x.text)\n",
    "        df= pd.concat([df,new_df])"
   ]
  },
  {
   "cell_type": "code",
   "execution_count": 78,
   "id": "c4ea730a",
   "metadata": {},
   "outputs": [],
   "source": [
    "df.drop_duplicates(inplace=True)"
   ]
  },
  {
   "cell_type": "code",
   "execution_count": 81,
   "id": "1ac0fa64",
   "metadata": {},
   "outputs": [
    {
     "name": "stdout",
     "output_type": "stream",
     "text": [
      "<class 'pandas.core.frame.DataFrame'>\n",
      "Int64Index: 1144 entries, 0 to 15\n",
      "Data columns (total 4 columns):\n",
      " #   Column   Non-Null Count  Dtype \n",
      "---  ------   --------------  ----- \n",
      " 0   name     1144 non-null   object\n",
      " 1   price    1144 non-null   object\n",
      " 2   type     1144 non-null   object\n",
      " 3   img_url  176 non-null    object\n",
      "dtypes: object(4)\n",
      "memory usage: 44.7+ KB\n"
     ]
    }
   ],
   "source": [
    "df.info()"
   ]
  },
  {
   "cell_type": "code",
   "execution_count": 83,
   "id": "3b5728f1",
   "metadata": {},
   "outputs": [],
   "source": [
    "df.drop(columns=['img_url'],axis=1,inplace=True)"
   ]
  },
  {
   "cell_type": "code",
   "execution_count": 85,
   "id": "7ccdb85c",
   "metadata": {},
   "outputs": [],
   "source": [
    "df.price = df.price.apply(lambda x:x.replace(',',''))\n",
    "df.price = df.price.astype(float)"
   ]
  },
  {
   "cell_type": "code",
   "execution_count": 86,
   "id": "10ba784a",
   "metadata": {},
   "outputs": [
    {
     "name": "stdout",
     "output_type": "stream",
     "text": [
      "<class 'pandas.core.frame.DataFrame'>\n",
      "Int64Index: 1144 entries, 0 to 15\n",
      "Data columns (total 3 columns):\n",
      " #   Column  Non-Null Count  Dtype  \n",
      "---  ------  --------------  -----  \n",
      " 0   name    1144 non-null   object \n",
      " 1   price   1144 non-null   float64\n",
      " 2   type    1144 non-null   object \n",
      "dtypes: float64(1), object(2)\n",
      "memory usage: 35.8+ KB\n"
     ]
    }
   ],
   "source": [
    "df.info()"
   ]
  },
  {
   "cell_type": "code",
   "execution_count": 97,
   "id": "e068823d",
   "metadata": {},
   "outputs": [],
   "source": [
    "import random\n",
    "import string\n",
    "from datetime import datetime, timedelta\n",
    "\n",
    "def generate_barcodes(n):\n",
    "    \"\"\"Generate a list of n unique barcodes.\"\"\"\n",
    "    barcodes = []\n",
    "    while len(barcodes) < n:\n",
    "        barcode = ''.join(random.choice(string.ascii_uppercase + string.digits) for _ in range(10))\n",
    "        if barcode not in barcodes:\n",
    "            barcodes.append(barcode)\n",
    "    return barcodes\n",
    "\n",
    "def generate_datetimes(n):\n",
    "    \"\"\"Generate a list of n random datetime objects within the year 2024.\"\"\"\n",
    "    start_date = datetime(2024, 1, 1)\n",
    "    end_date = datetime(2024, 12, 31)\n",
    "    datetimes = [start_date + timedelta(days=random.randint(0, 364)) for _ in range(n)]\n",
    "    return datetimes"
   ]
  },
  {
   "cell_type": "code",
   "execution_count": 98,
   "id": "7bbffa39",
   "metadata": {},
   "outputs": [],
   "source": [
    "df['barcode'] = generate_barcodes(len(df.name))\n",
    "df['expiration_date'] = generate_datetimes(len(df.name))"
   ]
  },
  {
   "cell_type": "code",
   "execution_count": 99,
   "id": "90de9835",
   "metadata": {},
   "outputs": [
    {
     "data": {
      "text/html": [
       "<div>\n",
       "<style scoped>\n",
       "    .dataframe tbody tr th:only-of-type {\n",
       "        vertical-align: middle;\n",
       "    }\n",
       "\n",
       "    .dataframe tbody tr th {\n",
       "        vertical-align: top;\n",
       "    }\n",
       "\n",
       "    .dataframe thead th {\n",
       "        text-align: right;\n",
       "    }\n",
       "</style>\n",
       "<table border=\"1\" class=\"dataframe\">\n",
       "  <thead>\n",
       "    <tr style=\"text-align: right;\">\n",
       "      <th></th>\n",
       "      <th>name</th>\n",
       "      <th>price</th>\n",
       "      <th>type</th>\n",
       "      <th>barcode</th>\n",
       "      <th>expiration_date</th>\n",
       "    </tr>\n",
       "  </thead>\n",
       "  <tbody>\n",
       "    <tr>\n",
       "      <th>0</th>\n",
       "      <td>FRESH BUZZ 775ML TRAVEL BINDER</td>\n",
       "      <td>189.0</td>\n",
       "      <td>Weight loss and weight control drugs</td>\n",
       "      <td>HQEZLM86YQ</td>\n",
       "      <td>2024-08-12</td>\n",
       "    </tr>\n",
       "    <tr>\n",
       "      <th>1</th>\n",
       "      <td>FRESH BUZZ 650ML TRAVEL BINDER</td>\n",
       "      <td>175.0</td>\n",
       "      <td>Weight loss and weight control drugs</td>\n",
       "      <td>AA3JOV0QZI</td>\n",
       "      <td>2024-01-22</td>\n",
       "    </tr>\n",
       "    <tr>\n",
       "      <th>2</th>\n",
       "      <td>Foam hemorrhoid base</td>\n",
       "      <td>245.0</td>\n",
       "      <td>Weight loss and weight control drugs</td>\n",
       "      <td>3H1B1ZRJ7D</td>\n",
       "      <td>2024-01-05</td>\n",
       "    </tr>\n",
       "    <tr>\n",
       "      <th>3</th>\n",
       "      <td>Scholl skin peeling and sanding device with ch...</td>\n",
       "      <td>131.0</td>\n",
       "      <td>Weight loss and weight control drugs</td>\n",
       "      <td>W71SNFGHG0</td>\n",
       "      <td>2024-11-22</td>\n",
       "    </tr>\n",
       "    <tr>\n",
       "      <th>4</th>\n",
       "      <td>BEURER FOOT SPA CODE FB12 Hydromassage Device</td>\n",
       "      <td>1199.0</td>\n",
       "      <td>Weight loss and weight control drugs</td>\n",
       "      <td>1B0DYP9J1F</td>\n",
       "      <td>2024-04-03</td>\n",
       "    </tr>\n",
       "  </tbody>\n",
       "</table>\n",
       "</div>"
      ],
      "text/plain": [
       "                                                name   price  \\\n",
       "0                     FRESH BUZZ 775ML TRAVEL BINDER   189.0   \n",
       "1                     FRESH BUZZ 650ML TRAVEL BINDER   175.0   \n",
       "2                               Foam hemorrhoid base   245.0   \n",
       "3  Scholl skin peeling and sanding device with ch...   131.0   \n",
       "4      BEURER FOOT SPA CODE FB12 Hydromassage Device  1199.0   \n",
       "\n",
       "                                   type     barcode expiration_date  \n",
       "0  Weight loss and weight control drugs  HQEZLM86YQ      2024-08-12  \n",
       "1  Weight loss and weight control drugs  AA3JOV0QZI      2024-01-22  \n",
       "2  Weight loss and weight control drugs  3H1B1ZRJ7D      2024-01-05  \n",
       "3  Weight loss and weight control drugs  W71SNFGHG0      2024-11-22  \n",
       "4  Weight loss and weight control drugs  1B0DYP9J1F      2024-04-03  "
      ]
     },
     "execution_count": 99,
     "metadata": {},
     "output_type": "execute_result"
    }
   ],
   "source": [
    "df.head()"
   ]
  },
  {
   "cell_type": "code",
   "execution_count": 100,
   "id": "bf14d7ad",
   "metadata": {},
   "outputs": [
    {
     "data": {
      "text/html": [
       "<div>\n",
       "<style scoped>\n",
       "    .dataframe tbody tr th:only-of-type {\n",
       "        vertical-align: middle;\n",
       "    }\n",
       "\n",
       "    .dataframe tbody tr th {\n",
       "        vertical-align: top;\n",
       "    }\n",
       "\n",
       "    .dataframe thead th {\n",
       "        text-align: right;\n",
       "    }\n",
       "</style>\n",
       "<table border=\"1\" class=\"dataframe\">\n",
       "  <thead>\n",
       "    <tr style=\"text-align: right;\">\n",
       "      <th></th>\n",
       "      <th>name</th>\n",
       "      <th>price</th>\n",
       "      <th>expiration_date</th>\n",
       "      <th>barcode</th>\n",
       "      <th>type</th>\n",
       "    </tr>\n",
       "  </thead>\n",
       "  <tbody>\n",
       "    <tr>\n",
       "      <th>0</th>\n",
       "      <td>FRESH BUZZ 775ML TRAVEL BINDER</td>\n",
       "      <td>189.0</td>\n",
       "      <td>2024-08-12</td>\n",
       "      <td>HQEZLM86YQ</td>\n",
       "      <td>Weight loss and weight control drugs</td>\n",
       "    </tr>\n",
       "    <tr>\n",
       "      <th>1</th>\n",
       "      <td>FRESH BUZZ 650ML TRAVEL BINDER</td>\n",
       "      <td>175.0</td>\n",
       "      <td>2024-01-22</td>\n",
       "      <td>AA3JOV0QZI</td>\n",
       "      <td>Weight loss and weight control drugs</td>\n",
       "    </tr>\n",
       "    <tr>\n",
       "      <th>2</th>\n",
       "      <td>Foam hemorrhoid base</td>\n",
       "      <td>245.0</td>\n",
       "      <td>2024-01-05</td>\n",
       "      <td>3H1B1ZRJ7D</td>\n",
       "      <td>Weight loss and weight control drugs</td>\n",
       "    </tr>\n",
       "    <tr>\n",
       "      <th>3</th>\n",
       "      <td>Scholl skin peeling and sanding device with ch...</td>\n",
       "      <td>131.0</td>\n",
       "      <td>2024-11-22</td>\n",
       "      <td>W71SNFGHG0</td>\n",
       "      <td>Weight loss and weight control drugs</td>\n",
       "    </tr>\n",
       "    <tr>\n",
       "      <th>4</th>\n",
       "      <td>BEURER FOOT SPA CODE FB12 Hydromassage Device</td>\n",
       "      <td>1199.0</td>\n",
       "      <td>2024-04-03</td>\n",
       "      <td>1B0DYP9J1F</td>\n",
       "      <td>Weight loss and weight control drugs</td>\n",
       "    </tr>\n",
       "  </tbody>\n",
       "</table>\n",
       "</div>"
      ],
      "text/plain": [
       "                                                name   price expiration_date  \\\n",
       "0                     FRESH BUZZ 775ML TRAVEL BINDER   189.0      2024-08-12   \n",
       "1                     FRESH BUZZ 650ML TRAVEL BINDER   175.0      2024-01-22   \n",
       "2                               Foam hemorrhoid base   245.0      2024-01-05   \n",
       "3  Scholl skin peeling and sanding device with ch...   131.0      2024-11-22   \n",
       "4      BEURER FOOT SPA CODE FB12 Hydromassage Device  1199.0      2024-04-03   \n",
       "\n",
       "      barcode                                  type  \n",
       "0  HQEZLM86YQ  Weight loss and weight control drugs  \n",
       "1  AA3JOV0QZI  Weight loss and weight control drugs  \n",
       "2  3H1B1ZRJ7D  Weight loss and weight control drugs  \n",
       "3  W71SNFGHG0  Weight loss and weight control drugs  \n",
       "4  1B0DYP9J1F  Weight loss and weight control drugs  "
      ]
     },
     "execution_count": 100,
     "metadata": {},
     "output_type": "execute_result"
    }
   ],
   "source": [
    "df =df.reindex(columns=['name','price','expiration_date','barcode','type'])\n",
    "df.head()"
   ]
  },
  {
   "cell_type": "code",
   "execution_count": 101,
   "id": "14ff15ef",
   "metadata": {},
   "outputs": [],
   "source": [
    "df.to_csv('drugs.csv',index=False)"
   ]
  }
 ],
 "metadata": {
  "kernelspec": {
   "display_name": "Python 3 (ipykernel)",
   "language": "python",
   "name": "python3"
  },
  "language_info": {
   "codemirror_mode": {
    "name": "ipython",
    "version": 3
   },
   "file_extension": ".py",
   "mimetype": "text/x-python",
   "name": "python",
   "nbconvert_exporter": "python",
   "pygments_lexer": "ipython3",
   "version": "3.10.5"
  }
 },
 "nbformat": 4,
 "nbformat_minor": 5
}
