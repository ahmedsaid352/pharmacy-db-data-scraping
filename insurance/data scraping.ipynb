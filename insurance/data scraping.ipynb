{
 "cells": [
  {
   "cell_type": "code",
   "execution_count": 1,
   "id": "fba12d3a",
   "metadata": {},
   "outputs": [],
   "source": [
    "from bs4 import BeautifulSoup\n",
    "from selenium import webdriver\n",
    "from webdriver_manager.chrome import ChromeDriverManager\n",
    "import pandas as pd\n",
    "import numpy as np"
   ]
  },
  {
   "cell_type": "code",
   "execution_count": 2,
   "id": "80bdbf56",
   "metadata": {},
   "outputs": [],
   "source": [
    "import warnings\n",
    "warnings.filterwarnings('ignore')"
   ]
  },
  {
   "cell_type": "code",
   "execution_count": 3,
   "id": "92efe963",
   "metadata": {},
   "outputs": [
    {
     "name": "stdout",
     "output_type": "stream",
     "text": [
      "\n"
     ]
    }
   ],
   "source": [
    "browser = webdriver.Chrome(ChromeDriverManager().install())\n",
    "browser.maximize_window()"
   ]
  },
  {
   "cell_type": "code",
   "execution_count": 4,
   "id": "56e747e4",
   "metadata": {},
   "outputs": [],
   "source": [
    "browser.get('https://www.lusha.com/company-search/insurance/105/egypt/171/')\n",
    "html = browser.page_source"
   ]
  },
  {
   "cell_type": "code",
   "execution_count": 5,
   "id": "0423f3b6",
   "metadata": {},
   "outputs": [],
   "source": [
    "soup = BeautifulSoup(html,\"html.parser\")"
   ]
  },
  {
   "cell_type": "code",
   "execution_count": 6,
   "id": "a8fb7d5b",
   "metadata": {},
   "outputs": [],
   "source": [
    "egypt_c_names = soup.select('body > main > div.directory.page-wrapper > section:nth-child(2) > div > div > div > div > div > a')"
   ]
  },
  {
   "cell_type": "code",
   "execution_count": 7,
   "id": "7f621320",
   "metadata": {},
   "outputs": [],
   "source": [
    "import numpy as np\n",
    "df = pd.DataFrame({\n",
    "    'insuranceName':egypt_c_names,\n",
    "    'DiscountPercentage':np.random.uniform(0.1, 0.9 , len(egypt_c_names)),\n",
    "    'Address': np.repeat('Egypt',len(egypt_c_names))\n",
    "})"
   ]
  },
  {
   "cell_type": "code",
   "execution_count": 8,
   "id": "2126badc",
   "metadata": {},
   "outputs": [
    {
     "data": {
      "text/html": [
       "<div>\n",
       "<style scoped>\n",
       "    .dataframe tbody tr th:only-of-type {\n",
       "        vertical-align: middle;\n",
       "    }\n",
       "\n",
       "    .dataframe tbody tr th {\n",
       "        vertical-align: top;\n",
       "    }\n",
       "\n",
       "    .dataframe thead th {\n",
       "        text-align: right;\n",
       "    }\n",
       "</style>\n",
       "<table border=\"1\" class=\"dataframe\">\n",
       "  <thead>\n",
       "    <tr style=\"text-align: right;\">\n",
       "      <th></th>\n",
       "      <th>insuranceName</th>\n",
       "      <th>DiscountPercentage</th>\n",
       "      <th>Address</th>\n",
       "    </tr>\n",
       "  </thead>\n",
       "  <tbody>\n",
       "    <tr>\n",
       "      <th>0</th>\n",
       "      <td>[Egypt In-Touch Assistance]</td>\n",
       "      <td>0.675511</td>\n",
       "      <td>Egypt</td>\n",
       "    </tr>\n",
       "    <tr>\n",
       "      <th>1</th>\n",
       "      <td>[GoodLife Insurance Brokers]</td>\n",
       "      <td>0.658967</td>\n",
       "      <td>Egypt</td>\n",
       "    </tr>\n",
       "    <tr>\n",
       "      <th>2</th>\n",
       "      <td>[Tokio Marine Egypt Family Takaful]</td>\n",
       "      <td>0.595296</td>\n",
       "      <td>Egypt</td>\n",
       "    </tr>\n",
       "    <tr>\n",
       "      <th>3</th>\n",
       "      <td>[QNB Alahli Life Insurance]</td>\n",
       "      <td>0.637059</td>\n",
       "      <td>Egypt</td>\n",
       "    </tr>\n",
       "    <tr>\n",
       "      <th>4</th>\n",
       "      <td>[Smart Medical Services]</td>\n",
       "      <td>0.401985</td>\n",
       "      <td>Egypt</td>\n",
       "    </tr>\n",
       "  </tbody>\n",
       "</table>\n",
       "</div>"
      ],
      "text/plain": [
       "                         insuranceName  DiscountPercentage Address\n",
       "0          [Egypt In-Touch Assistance]            0.675511   Egypt\n",
       "1         [GoodLife Insurance Brokers]            0.658967   Egypt\n",
       "2  [Tokio Marine Egypt Family Takaful]            0.595296   Egypt\n",
       "3          [QNB Alahli Life Insurance]            0.637059   Egypt\n",
       "4             [Smart Medical Services]            0.401985   Egypt"
      ]
     },
     "execution_count": 8,
     "metadata": {},
     "output_type": "execute_result"
    }
   ],
   "source": [
    "df.head()"
   ]
  },
  {
   "cell_type": "code",
   "execution_count": 10,
   "id": "5a4788d7",
   "metadata": {},
   "outputs": [
    {
     "data": {
      "text/plain": [
       "'Egypt In-Touch Assistance'"
      ]
     },
     "execution_count": 10,
     "metadata": {},
     "output_type": "execute_result"
    }
   ],
   "source": [
    "df.insuranceName[0].text"
   ]
  },
  {
   "cell_type": "code",
   "execution_count": 9,
   "id": "09a29f0b",
   "metadata": {},
   "outputs": [],
   "source": [
    "df.DiscountPercentage = df.DiscountPercentage.apply(lambda x:round(x,2))\n",
    "df.insuranceName = df.insuranceName.apply(lambda x:x.text)"
   ]
  },
  {
   "cell_type": "code",
   "execution_count": 10,
   "id": "b03bcb96",
   "metadata": {},
   "outputs": [
    {
     "data": {
      "text/html": [
       "<div>\n",
       "<style scoped>\n",
       "    .dataframe tbody tr th:only-of-type {\n",
       "        vertical-align: middle;\n",
       "    }\n",
       "\n",
       "    .dataframe tbody tr th {\n",
       "        vertical-align: top;\n",
       "    }\n",
       "\n",
       "    .dataframe thead th {\n",
       "        text-align: right;\n",
       "    }\n",
       "</style>\n",
       "<table border=\"1\" class=\"dataframe\">\n",
       "  <thead>\n",
       "    <tr style=\"text-align: right;\">\n",
       "      <th></th>\n",
       "      <th>insuranceName</th>\n",
       "      <th>DiscountPercentage</th>\n",
       "      <th>Address</th>\n",
       "    </tr>\n",
       "  </thead>\n",
       "  <tbody>\n",
       "    <tr>\n",
       "      <th>0</th>\n",
       "      <td>Egypt In-Touch Assistance</td>\n",
       "      <td>0.25</td>\n",
       "      <td>Egypt</td>\n",
       "    </tr>\n",
       "    <tr>\n",
       "      <th>1</th>\n",
       "      <td>GoodLife Insurance Brokers</td>\n",
       "      <td>0.54</td>\n",
       "      <td>Egypt</td>\n",
       "    </tr>\n",
       "    <tr>\n",
       "      <th>2</th>\n",
       "      <td>Tokio Marine Egypt Family Takaful</td>\n",
       "      <td>0.16</td>\n",
       "      <td>Egypt</td>\n",
       "    </tr>\n",
       "    <tr>\n",
       "      <th>3</th>\n",
       "      <td>QNB Alahli Life Insurance</td>\n",
       "      <td>0.86</td>\n",
       "      <td>Egypt</td>\n",
       "    </tr>\n",
       "    <tr>\n",
       "      <th>4</th>\n",
       "      <td>Smart Medical Services</td>\n",
       "      <td>0.39</td>\n",
       "      <td>Egypt</td>\n",
       "    </tr>\n",
       "  </tbody>\n",
       "</table>\n",
       "</div>"
      ],
      "text/plain": [
       "                       insuranceName  DiscountPercentage Address\n",
       "0          Egypt In-Touch Assistance                0.25   Egypt\n",
       "1         GoodLife Insurance Brokers                0.54   Egypt\n",
       "2  Tokio Marine Egypt Family Takaful                0.16   Egypt\n",
       "3          QNB Alahli Life Insurance                0.86   Egypt\n",
       "4             Smart Medical Services                0.39   Egypt"
      ]
     },
     "execution_count": 10,
     "metadata": {},
     "output_type": "execute_result"
    }
   ],
   "source": [
    "df.head()"
   ]
  },
  {
   "cell_type": "code",
   "execution_count": 11,
   "id": "21bde26d",
   "metadata": {},
   "outputs": [],
   "source": [
    "counries_urls = soup.select('section.directory-content.related-industries > div > div > div > div > div > a')"
   ]
  },
  {
   "cell_type": "code",
   "execution_count": 12,
   "id": "886a7ac5",
   "metadata": {},
   "outputs": [
    {
     "data": {
      "text/plain": [
       "9"
      ]
     },
     "execution_count": 12,
     "metadata": {},
     "output_type": "execute_result"
    }
   ],
   "source": [
    "len(counries_urls)"
   ]
  },
  {
   "cell_type": "code",
   "execution_count": 13,
   "id": "7a5fc826",
   "metadata": {},
   "outputs": [],
   "source": [
    "for url in counries_urls:\n",
    "    browser.get(url.get('href'))\n",
    "    html = browser.page_source\n",
    "    soup = BeautifulSoup(html,\"html.parser\")\n",
    "    names = soup.select('body > main > div.directory.page-wrapper > section:nth-child(2) > div > div > div > div > div > a')\n",
    "    new_df = pd.DataFrame({\n",
    "    'insuranceName':names,\n",
    "    'DiscountPercentage':np.random.uniform(0.1, 0.9 , len(names)),\n",
    "    'Address': np.repeat(url.text.split('(')[0].strip(),len(names))\n",
    "    })\n",
    "    new_df.DiscountPercentage = new_df.DiscountPercentage.apply(lambda x:round(x,2))\n",
    "    new_df.insuranceName = new_df.insuranceName.apply(lambda x:x.text)\n",
    "    df = pd.concat([df,new_df])"
   ]
  },
  {
   "cell_type": "code",
   "execution_count": 17,
   "id": "228badbc",
   "metadata": {},
   "outputs": [],
   "source": [
    "df.to_excel('insuranceData.xlsx',index=False)"
   ]
  }
 ],
 "metadata": {
  "kernelspec": {
   "display_name": "Python 3 (ipykernel)",
   "language": "python",
   "name": "python3"
  },
  "language_info": {
   "codemirror_mode": {
    "name": "ipython",
    "version": 3
   },
   "file_extension": ".py",
   "mimetype": "text/x-python",
   "name": "python",
   "nbconvert_exporter": "python",
   "pygments_lexer": "ipython3",
   "version": "3.10.5"
  }
 },
 "nbformat": 4,
 "nbformat_minor": 5
}
